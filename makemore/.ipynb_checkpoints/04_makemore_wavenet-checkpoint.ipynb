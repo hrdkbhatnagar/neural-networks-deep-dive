{
 "cells": [
  {
   "cell_type": "markdown",
   "id": "80247e86",
   "metadata": {},
   "source": [
    "Building torch.nn from scratch \n",
    "\n",
    "The problem with the MLP approach is that we are \"crushing\" all the inputs into a single layer in the begninnng, in a single step.  Although we could make the network deeper to improve the complexity, but the problem still exists . \n",
    "\n",
    "\n",
    "WaveNet does not do this \"squashing\" of the input. The inputs are rather crushed slowly. The information from the previous context is fused SLOWLY into the network as it gets deeper. \n",
    "\n",
    "At each level of the network, we're going to fuse only two consecutive elements "
   ]
  },
  {
   "cell_type": "code",
   "execution_count": 3,
   "id": "8e39a196",
   "metadata": {},
   "outputs": [],
   "source": [
    "import torch\n",
    "import torch.nn.functional as F\n",
    "import matplotlib.pyplot as plt \n",
    "%matplotlib inline"
   ]
  },
  {
   "cell_type": "code",
   "execution_count": 4,
   "id": "397112fa",
   "metadata": {},
   "outputs": [
    {
     "name": "stdout",
     "output_type": "stream",
     "text": [
      "Number of words: 32033 \n",
      "Examples: ['emma', 'olivia', 'ava', 'isabella', 'sophia', 'charlotte', 'mia', 'amelia']\n"
     ]
    }
   ],
   "source": [
    "words = open('names.txt','r').read().splitlines()\n",
    "print(f\"Number of words: {len(words)} \\nExamples: {words[:8]}\")"
   ]
  },
  {
   "cell_type": "code",
   "execution_count": 5,
   "id": "dce8e08d",
   "metadata": {},
   "outputs": [
    {
     "name": "stdout",
     "output_type": "stream",
     "text": [
      "{1: 'a', 2: 'b', 3: 'c', 4: 'd', 5: 'e', 6: 'f', 7: 'g', 8: 'h', 9: 'i', 10: 'j', 11: 'k', 12: 'l', 13: 'm', 14: 'n', 15: 'o', 16: 'p', 17: 'q', 18: 'r', 19: 's', 20: 't', 21: 'u', 22: 'v', 23: 'w', 24: 'x', 25: 'y', 26: 'z', 0: '.'} \n",
      " 27\n"
     ]
    }
   ],
   "source": [
    "# build the vocabulary of characters and mappings to/from integers\n",
    "chars = sorted(list(set(''.join(words))))\n",
    "stoi = {s:i+1 for i,s in enumerate(chars)}\n",
    "stoi['.'] = 0\n",
    "itos = {i:s for s,i in stoi.items()}\n",
    "vocab_size = len(itos)\n",
    "print(itos,\"\\n\",vocab_size)"
   ]
  },
  {
   "cell_type": "code",
   "execution_count": 6,
   "id": "257a835c",
   "metadata": {},
   "outputs": [],
   "source": [
    "# shuffle the words\n",
    "import random\n",
    "random.seed(42)\n",
    "random.shuffle(words)"
   ]
  },
  {
   "cell_type": "code",
   "execution_count": 65,
   "id": "4f234957",
   "metadata": {},
   "outputs": [
    {
     "name": "stdout",
     "output_type": "stream",
     "text": [
      "torch.Size([182437, 8]) torch.Size([182437])\n",
      "torch.Size([22781, 8]) torch.Size([22781])\n",
      "torch.Size([22928, 8]) torch.Size([22928])\n"
     ]
    }
   ],
   "source": [
    "# build the dataset\n",
    "block_size = 8 # context length: how many characters do we take to predict the next one?\n",
    "\n",
    "def build_dataset(words):  \n",
    "    X, Y = [], []\n",
    "    for w in words:\n",
    "        context = [0] * block_size\n",
    "        for ch in w + '.':\n",
    "            ix = stoi[ch]\n",
    "            X.append(context)\n",
    "            Y.append(ix)\n",
    "            #print(''.join(itos[i] for i in context), '--->', itos[ix])\n",
    "            context = context[1:] + [ix] # crop and append to the context \n",
    "\n",
    "    X = torch.tensor(X)\n",
    "    Y = torch.tensor(Y)\n",
    "    print(X.shape, Y.shape)\n",
    "    return X, Y\n",
    "\n",
    "import random\n",
    "random.seed(42)\n",
    "random.shuffle(words)\n",
    "n1 = int(0.8*len(words))\n",
    "n2 = int(0.9*len(words))\n",
    "\n",
    "Xtr, Ytr = build_dataset(words[:n1]) # Training split 80%\n",
    "Xdev, Ydev = build_dataset(words[n1:n2]) # Validation split 10%\n",
    "Xte, Yte = build_dataset(words[n2:]) # Test split 10%"
   ]
  },
  {
   "cell_type": "code",
   "execution_count": 66,
   "id": "16ec45ce",
   "metadata": {},
   "outputs": [
    {
     "name": "stdout",
     "output_type": "stream",
     "text": [
      "........ --> t\n",
      ".......t --> a\n",
      "......ta --> u\n",
      ".....tau --> r\n",
      "....taur --> e\n",
      "...taure --> n\n",
      "..tauren --> .\n",
      "........ --> s\n",
      ".......s --> u\n",
      "......su --> l\n",
      ".....sul --> e\n",
      "....sule --> m\n",
      "...sulem --> a\n",
      "..sulema --> n\n",
      ".suleman --> .\n",
      "........ --> z\n",
      ".......z --> e\n",
      "......ze --> r\n",
      ".....zer --> e\n",
      "....zere --> n\n"
     ]
    }
   ],
   "source": [
    "for x,y in zip(Xtr[:20], Ytr[:20]):\n",
    "    print(''.join(itos[ix.item()] for ix in x ), '-->', itos[y.item()])"
   ]
  },
  {
   "cell_type": "code",
   "execution_count": 105,
   "id": "fe9310cb",
   "metadata": {},
   "outputs": [],
   "source": [
    "class Linear: \n",
    "    def __init__(self, fan_in, fan_out, bias = True): # fan_in: # of inputs , fan_out: # of outputs \n",
    "        self.weight = torch.randn((fan_in, fan_out)) / fan_in ** 0.5 # Kaiming init\n",
    "        self.bias = torch.zeros(fan_out) if bias else None \n",
    "    \n",
    "    def __call__(self, x): \n",
    "        self.out = x @ self.weight\n",
    "        if self.bias is not None: \n",
    "            self.out += self.bias\n",
    "        return self.out\n",
    "    \n",
    "    def parameters(self):\n",
    "        return [self.weight] + ([] if self.bias is None else [self.bias])\n",
    "    \n",
    "class BatchNorm1d:\n",
    "    \n",
    "    def __init__(self, dim, eps = 1e-5, momentum = 0.1):\n",
    "        self.eps = eps\n",
    "        self.momentum = momentum\n",
    "        self.training = True\n",
    "        \n",
    "        # Params: that are trained with backprop \n",
    "        self.gamma = torch.ones(dim)\n",
    "        self.beta = torch.zeros(dim)\n",
    "        \n",
    "        # buffers: that are trained with a running 'momentum' update (exponential moving average)\n",
    "        self.running_mean = torch.zeros(dim)\n",
    "        self.running_var = torch.ones(dim)\n",
    "        \n",
    "    def __call__(self,x):\n",
    "        # forward pass\n",
    "        if self.training: \n",
    "            \n",
    "            if x.ndim  ==2:\n",
    "                dim =0\n",
    "                    \n",
    "            elif x.ndim ==3: # fix batchorm for this case where the input is 3 dimensional instead of 2 \n",
    "                dim = (0,1)\n",
    "            xmean = x.mean(dim,keepdim=True) # mean of the batch \n",
    "            xvar = x.var(dim, keepdim = True) # variance of the batch \n",
    "            \n",
    "        else: \n",
    "            xmean = self.running_mean \n",
    "            xvar = self.running_var \n",
    "        \n",
    "        xhat = (x-xmean) / torch.sqrt( xvar + self.eps) # normalize to unit variance, eps to avoid dividing by zero\n",
    "        self.out = self.gamma * xhat + self.beta \n",
    "        \n",
    "        # update\n",
    "        if self.training:\n",
    "            with torch.no_grad():\n",
    "                self.running_mean = (1-self.momentum) * self.running_mean + self.momentum * xmean\n",
    "                self.running_var = (1-self.momentum) * self.running_var + self.momentum * xvar \n",
    "\n",
    "        return self.out\n",
    "\n",
    "    def parameters(self):\n",
    "        return [self.gamma, self.beta]\n",
    "    \n",
    "class Tanh:\n",
    "    def __call__(self,x):\n",
    "        self.out = torch.tanh(x)\n",
    "        return self.out\n",
    "    def parameters(self):\n",
    "        return [] \n",
    "    \n",
    "    \n",
    "class Embedding: \n",
    "    \n",
    "    def __init__(self, num_embeddings, embedding_dim):\n",
    "        self.weight = torch.randn((num_embeddings, embedding_dim)) # this is the C matrix  \n",
    "    \n",
    "    def __call__(self, IX):\n",
    "        self.out = self.weight[IX]\n",
    "        return self.out\n",
    "    \n",
    "    def parameters(self):\n",
    "        return [self.weight]\n",
    "    \n",
    "    \n",
    "class FlattenConsecutive: # not exactly same as PyTorch's flatten \n",
    "    def __init__(self,n):\n",
    "        # n is the number of consecutive elements we want to pair (concatenate)\n",
    "        self.n = n\n",
    "    \n",
    "    def __call__(self,x):\n",
    "        B,T,C = x.shape \n",
    "        x = x.view(B, T//self.n, self.n*C)\n",
    "        \n",
    "        if x.shape[1] == 1:\n",
    "            x = x.squeeze(1)\n",
    "            \n",
    "        self.out = x\n",
    "        return self.out\n",
    "    \n",
    "    def parameters(self):\n",
    "        return [] \n",
    "    \n",
    "\n",
    "# Implementing PyTorch's containers \n",
    "\n",
    "class Sequential: \n",
    "    def __init__(self,layers):\n",
    "        self.layers = layers\n",
    "        \n",
    "    def __call__(self,x):\n",
    "        for layer in self.layers:\n",
    "            x = layer(x)\n",
    "        self.out = x\n",
    "        return self.out \n",
    "    \n",
    "    def parameters(self):\n",
    "        # get params of all the layers and strech them into a single list \n",
    "        return [p for layer in self.layers for p in layer.parameters()]"
   ]
  },
  {
   "cell_type": "code",
   "execution_count": 106,
   "id": "2b428901",
   "metadata": {},
   "outputs": [],
   "source": [
    "torch.manual_seed(42);\n"
   ]
  },
  {
   "cell_type": "code",
   "execution_count": 107,
   "id": "b955fce9",
   "metadata": {},
   "outputs": [
    {
     "name": "stdout",
     "output_type": "stream",
     "text": [
      "22397\n"
     ]
    }
   ],
   "source": [
    "n_embd = 10 # dimensionality of the character embedding vectors \n",
    "n_hidden = 68 # number of neurons in the hidden layer of the MLP \n",
    "\n",
    "\n",
    "model = Sequential([\n",
    "    Embedding(vocab_size, n_embd),\n",
    "    FlattenConsecutive(2),Linear(n_embd * 2, n_hidden, bias = False), BatchNorm1d(n_hidden), Tanh(),\n",
    "    FlattenConsecutive(2),Linear(n_hidden * 2, n_hidden, bias = False), BatchNorm1d(n_hidden), Tanh(),\n",
    "    FlattenConsecutive(2),Linear(n_hidden * 2, n_hidden, bias = False), BatchNorm1d(n_hidden), Tanh(),\n",
    "\n",
    "\n",
    "    Linear(n_hidden, vocab_size),\n",
    "])\n",
    "\n",
    "\n",
    "with torch.no_grad():\n",
    "    # last layer: make it less confident\n",
    "    layers[-1].weight *= 0.1\n",
    "            \n",
    "            \n",
    "parameters = model.parameters()\n",
    "print(sum(p.nelement() for p in parameters))\n",
    "\n",
    "for p in parameters:\n",
    "    p.requires_grad = True\n"
   ]
  },
  {
   "cell_type": "code",
   "execution_count": 108,
   "id": "a893a2ce",
   "metadata": {},
   "outputs": [],
   "source": [
    "# ix = torch.randint(0,Xtr.shape[0],(4,))\n",
    "# Xb,Yb = Xtr[ix] , Ytr[ix]\n",
    "# logits = model(Xb)\n",
    "# print(Xb.shape)\n",
    "# Xb"
   ]
  },
  {
   "cell_type": "code",
   "execution_count": 109,
   "id": "4538b0f1",
   "metadata": {},
   "outputs": [],
   "source": [
    "# for layer in model.layers:\n",
    "#     print(layer.__class__.__name__,':', tuple(layer.out.shape))"
   ]
  },
  {
   "cell_type": "code",
   "execution_count": 110,
   "id": "67e1d876",
   "metadata": {},
   "outputs": [
    {
     "name": "stdout",
     "output_type": "stream",
     "text": [
      "      0/ 200000: 3.4985\n",
      "  10000/ 200000: 2.6351\n",
      "  20000/ 200000: 1.7178\n",
      "  30000/ 200000: 2.0024\n",
      "  40000/ 200000: 2.2727\n",
      "  50000/ 200000: 2.1194\n",
      "  60000/ 200000: 2.3659\n",
      "  70000/ 200000: 1.6179\n",
      "  80000/ 200000: 1.9928\n",
      "  90000/ 200000: 1.8687\n",
      " 100000/ 200000: 1.9310\n",
      " 110000/ 200000: 2.2240\n",
      " 120000/ 200000: 2.1806\n",
      " 130000/ 200000: 1.7530\n",
      " 140000/ 200000: 1.9966\n",
      " 150000/ 200000: 1.8820\n",
      " 160000/ 200000: 1.8997\n",
      " 170000/ 200000: 1.9224\n",
      " 180000/ 200000: 1.9073\n",
      " 190000/ 200000: 1.5848\n"
     ]
    }
   ],
   "source": [
    "# Optimization same as before \n",
    "max_steps = 200_000\n",
    "batch_size = 32\n",
    "lossi = []\n",
    "\n",
    "\n",
    "for i in range(max_steps):\n",
    "    \n",
    "    # minibatch\n",
    "    ix = torch.randint(0, Xtr.shape[0], (batch_size,))\n",
    "    Xb, Yb = Xtr[ix], Ytr[ix] # minibatch X and Y \n",
    "    \n",
    "    # Forward pass\n",
    "    logits = model(Xb)xw\n",
    "\n",
    "    loss = F.cross_entropy(logits, Yb)\n",
    "    \n",
    "    # Backward pass\n",
    "    for p in parameters:\n",
    "        p.grad = None\n",
    "    loss.backward()\n",
    "    \n",
    "    # update : SGD \n",
    "    lr = 0.1 if i < 150_000 else 0.01 # Step learning rate decay \n",
    "    for p in parameters:\n",
    "        p.data += -lr * p.grad # The \"update\"\n",
    "        \n",
    "    # Track stats\n",
    "    if i%10_000 == 0: # Print every 10k steps \n",
    "        print(f'{i:7d}/{max_steps:7d}: {loss.item():.4f}')\n",
    "    lossi.append(loss.log10().item())\n",
    "    \n"
   ]
  },
  {
   "cell_type": "code",
   "execution_count": 111,
   "id": "9fa98fe8",
   "metadata": {},
   "outputs": [
    {
     "data": {
      "text/plain": [
       "[<matplotlib.lines.Line2D at 0x16bf5e070>]"
      ]
     },
     "execution_count": 111,
     "metadata": {},
     "output_type": "execute_result"
    },
    {
     "data": {
      "image/png": "[encoded data removed]",
      "text/plain": [
       "<Figure size 640x480 with 1 Axes>"
      ]
     },
     "metadata": {},
     "output_type": "display_data"
    }
   ],
   "source": [
    "plt.plot(torch.tensor(lossi).view(-1, 1000).mean(1)) # strech out the for 1000 consecutive elements \n",
    "# Take average for every 1000 iterations "
   ]
  },
  {
   "cell_type": "code",
   "execution_count": 112,
   "id": "d046f564",
   "metadata": {},
   "outputs": [],
   "source": [
    "# put layers into eval mode (needed for batchnorm especially)\n",
    "for layer in model.layers:\n",
    "    layer.training = False"
   ]
  },
  {
   "cell_type": "code",
   "execution_count": 113,
   "id": "2a3af7ff",
   "metadata": {},
   "outputs": [
    {
     "name": "stdout",
     "output_type": "stream",
     "text": [
      "train loss: 1.911442518234253\n",
      "val loss: 2.0323798656463623\n"
     ]
    }
   ],
   "source": [
    "@torch.no_grad() # Disable gradient tracking \n",
    "def split_loss(split):\n",
    "    x,y = {\n",
    "        'train': (Xtr,Ytr),\n",
    "        'val': (Xdev,Ydev),\n",
    "        'test': (Xte, Yte),\n",
    "    }[split]\n",
    "    \n",
    "    logits = model(x)\n",
    "        \n",
    "    loss = F.cross_entropy(logits, y)\n",
    "    print(f'{split} loss: {loss.item()}')\n",
    "    \n",
    "split_loss('train')\n",
    "split_loss('val')\n"
   ]
  },
  {
   "cell_type": "code",
   "execution_count": 115,
   "id": "9b28a339",
   "metadata": {},
   "outputs": [
    {
     "name": "stdout",
     "output_type": "stream",
     "text": [
      "tokore.\n",
      "yohna.\n",
      "nichira.\n",
      "hayleigh.\n",
      "brakel.\n",
      "shyvan.\n",
      "luna.\n",
      "aleysh.\n",
      "kelon.\n",
      "luwa.\n",
      "archan.\n",
      "jennesty.\n",
      "brarai.\n",
      "raney.\n",
      "maleni.\n",
      "jari.\n",
      "nezariannah.\n",
      "preszopard.\n",
      "joreri.\n",
      "bascer.\n"
     ]
    }
   ],
   "source": [
    "# Sample from the model and generate names \n",
    "for _ in range(20):    \n",
    "    out = []\n",
    "    context = [0] * block_size # init with all \"...\"\n",
    "    while True: \n",
    "        # forward pass the neural net \n",
    "        logits = model(torch.tensor([context]))\n",
    "        \n",
    "        \n",
    "        probs = F.softmax(logits , dim = 1)\n",
    "        \n",
    "        ix = torch.multinomial(probs, num_samples = 1).item()   # sample from the distribution \n",
    "        context = context[1:] + [ix] # shift the context window and track the samples\n",
    "        out.append(ix)\n",
    "        # if the '.' is sampled, then finish\n",
    "        if ix == 0: \n",
    "            break\n",
    "     \n",
    "    print(\"\".join(itos[i] for i in out))"
   ]
  }
 ],
 "metadata": {
  "kernelspec": {
   "display_name": "Python 3 (ipykernel)",
   "language": "python",
   "name": "python3"
  },
  "language_info": {
   "codemirror_mode": {
    "name": "ipython",
    "version": 3
   },
   "file_extension": ".py",
   "mimetype": "text/x-python",
   "name": "python",
   "nbconvert_exporter": "python",
   "pygments_lexer": "ipython3",
   "version": "3.9.15"
  }
 },
 "nbformat": 4,
 "nbformat_minor": 5
}
