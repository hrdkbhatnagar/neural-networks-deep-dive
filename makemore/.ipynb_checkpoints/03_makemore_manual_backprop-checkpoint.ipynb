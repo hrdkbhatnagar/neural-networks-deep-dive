{
 "cells": [
  {
   "cell_type": "markdown",
   "id": "a833181f",
   "metadata": {},
   "source": [
    "Delving deep into the inner workings of backprop"
   ]
  },
  {
   "cell_type": "code",
   "execution_count": 1,
   "id": "e3effd58",
   "metadata": {},
   "outputs": [],
   "source": [
    "import torch\n",
    "import torch.nn.functional as F\n",
    "import matplotlib.pyplot as plt\n",
    "%matplotlib inline"
   ]
  },
  {
   "cell_type": "code",
   "execution_count": 2,
   "id": "81f16ad8",
   "metadata": {},
   "outputs": [
    {
     "name": "stdout",
     "output_type": "stream",
     "text": [
      "Number of words: 32033 \n",
      "Examples: ['emma', 'olivia', 'ava', 'isabella', 'sophia', 'charlotte', 'mia', 'amelia']\n"
     ]
    }
   ],
   "source": [
    "words = open('names.txt','r').read().splitlines()\n",
    "print(f\"Number of words: {len(words)} \\nExamples: {words[:8]}\")"
   ]
  },
  {
   "cell_type": "code",
   "execution_count": 3,
   "id": "5fcbe431",
   "metadata": {},
   "outputs": [
    {
     "name": "stdout",
     "output_type": "stream",
     "text": [
      "{1: 'a', 2: 'b', 3: 'c', 4: 'd', 5: 'e', 6: 'f', 7: 'g', 8: 'h', 9: 'i', 10: 'j', 11: 'k', 12: 'l', 13: 'm', 14: 'n', 15: 'o', 16: 'p', 17: 'q', 18: 'r', 19: 's', 20: 't', 21: 'u', 22: 'v', 23: 'w', 24: 'x', 25: 'y', 26: 'z', 0: '.'} \n",
      " 27\n"
     ]
    }
   ],
   "source": [
    "# build the vocabulary of characters and mappings to/from integers\n",
    "chars = sorted(list(set(''.join(words))))\n",
    "stoi = {s:i+1 for i,s in enumerate(chars)}\n",
    "stoi['.'] = 0\n",
    "itos = {i:s for s,i in stoi.items()}\n",
    "vocab_size = len(itos)\n",
    "print(itos,\"\\n\",vocab_size)"
   ]
  },
  {
   "cell_type": "code",
   "execution_count": 14,
   "id": "80b1ed93",
   "metadata": {},
   "outputs": [
    {
     "name": "stdout",
     "output_type": "stream",
     "text": [
      "torch.Size([182580, 3]) torch.Size([182580])\n",
      "torch.Size([22767, 3]) torch.Size([22767])\n",
      "torch.Size([22799, 3]) torch.Size([22799])\n"
     ]
    }
   ],
   "source": [
    "# build the dataset\n",
    "block_size = 3 # context length: how many characters do we take to predict the next one?\n",
    "\n",
    "def build_dataset(words):  \n",
    "    X, Y = [], []\n",
    "    for w in words:\n",
    "        context = [0] * block_size\n",
    "        for ch in w + '.':\n",
    "            ix = stoi[ch]\n",
    "            X.append(context)\n",
    "            Y.append(ix)\n",
    "            #print(''.join(itos[i] for i in context), '--->', itos[ix])\n",
    "            context = context[1:] + [ix] # crop and append to the context \n",
    "\n",
    "    X = torch.tensor(X)\n",
    "    Y = torch.tensor(Y)\n",
    "    print(X.shape, Y.shape)\n",
    "    return X, Y\n",
    "\n",
    "import random\n",
    "random.seed(42)\n",
    "random.shuffle(words)\n",
    "n1 = int(0.8*len(words))\n",
    "n2 = int(0.9*len(words))\n",
    "\n",
    "Xtr, Ytr = build_dataset(words[:n1]) # Training split 80%\n",
    "Xdev, Ydev = build_dataset(words[n1:n2]) # Validation split 10%\n",
    "Xte, Yte = build_dataset(words[n2:]) # Test split 10%"
   ]
  },
  {
   "cell_type": "code",
   "execution_count": 15,
   "id": "a42da31f",
   "metadata": {},
   "outputs": [],
   "source": [
    "# utility function to compare manual gradient calculation to PyTorch's gradients \n",
    "\n",
    "def cmp(s, dt, t):\n",
    "    ex = torch.all(dt == t.grad).item()\n",
    "    app = torch.allclose(dt, t.grad)\n",
    "    maxdiff = (dt - t.grad).abs().max().item()\n",
    "    print(f'{s:15s} | exact: {str(ex):5s} | approximate: {str(app):5s} | maxdiff: {maxdiff}')"
   ]
  },
  {
   "cell_type": "code",
   "execution_count": 16,
   "id": "82ace3b2",
   "metadata": {},
   "outputs": [
    {
     "name": "stdout",
     "output_type": "stream",
     "text": [
      "Number of total parameters: 4137\n"
     ]
    }
   ],
   "source": [
    "# Create the MLP \n",
    "n_embd = 10 # the dimensionality of the character embedding vectors \n",
    "n_hidden = 64 # the number of neurons in the hidden layer of the MLP \n",
    "\n",
    "g = torch.Generator().manual_seed(2147483647) # for reproducibility\n",
    "\n",
    "# C : Lookup table: Example: 27 chars --> 2 dimensions\n",
    "C = torch.randn((vocab_size, n_embd),             generator=g) # 10 dimensinal embeddings\n",
    "\n",
    "# Layer 1\n",
    "W1 = torch.randn((n_embd * block_size, n_hidden), generator=g) * (5/3)/((n_embd * block_size)**0.5)# 3 x 10 inputs = 30 \n",
    "b1 = torch.randn(n_hidden,                        generator=g) * 0.1\n",
    "\n",
    "# Layer 2\n",
    "W2 = torch.randn((n_hidden, vocab_size),          generator=g) * 0.1 # For fixing inital loss\n",
    "b2 = torch.randn(vocab_size,                      generator=g) * 0.1 # for fixing intial loss \n",
    "\n",
    "# BatchNorm parameters\n",
    "bngain = torch.randn((1,n_hidden))* 0.1 * 1.0\n",
    "bnbias = torch.randn((1,n_hidden))* 0.1\n",
    "\n",
    "parameters = [C, W1, b1, W2, b2, bngain, bnbias]\n",
    "\n",
    "for p in parameters:\n",
    "    p.requires_grad = True\n",
    "\n",
    "print(f'Number of total parameters: {sum(p.nelement() for p in parameters)}')"
   ]
  },
  {
   "cell_type": "code",
   "execution_count": 17,
   "id": "52beaa76",
   "metadata": {},
   "outputs": [],
   "source": [
    "batch_size = 32\n",
    "n = batch_size\n",
    "\n",
    "ix = torch.randint(0, Xtr.shape[0], (batch_size,), generator = g)\n",
    "Xb, Yb = Xtr[ix], Ytr[ix] # minibatch X and Y "
   ]
  },
  {
   "cell_type": "code",
   "execution_count": 18,
   "id": "7ed87f0f",
   "metadata": {},
   "outputs": [
    {
     "data": {
      "text/plain": [
       "tensor(3.3620, grad_fn=<NegBackward0>)"
      ]
     },
     "execution_count": 18,
     "metadata": {},
     "output_type": "execute_result"
    }
   ],
   "source": [
    "# forward pass, \"chunkated\" into smaller steps that are possible to backward one at a time\n",
    "\n",
    "emb = C[Xb] # embed the characters into vectors\n",
    "embcat = emb.view(emb.shape[0], -1) # concatenate the vectors\n",
    "# Linear layer 1\n",
    "hprebn = embcat @ W1 + b1 # hidden layer pre-activation\n",
    "# BatchNorm layer\n",
    "bnmeani = 1/n*hprebn.sum(0, keepdim=True)\n",
    "bndiff = hprebn - bnmeani\n",
    "bndiff2 = bndiff**2\n",
    "bnvar = 1/(n-1)*(bndiff2).sum(0, keepdim=True) # note: Bessel's correction (dividing by n-1, not n)\n",
    "bnvar_inv = (bnvar + 1e-5)**-0.5\n",
    "bnraw = bndiff * bnvar_inv\n",
    "hpreact = bngain * bnraw + bnbias\n",
    "# Non-linearity\n",
    "h = torch.tanh(hpreact) # hidden layer\n",
    "# Linear layer 2\n",
    "logits = h @ W2 + b2 # output layer\n",
    "# cross entropy loss (same as F.cross_entropy(logits, Yb))\n",
    "logit_maxes = logits.max(1, keepdim=True).values\n",
    "norm_logits = logits - logit_maxes # subtract max for numerical stability\n",
    "counts = norm_logits.exp()\n",
    "counts_sum = counts.sum(1, keepdims=True)\n",
    "counts_sum_inv = counts_sum**-1 # if I use (1.0 / counts_sum) instead then I can't get backprop to be bit exact...\n",
    "probs = counts * counts_sum_inv\n",
    "logprobs = probs.log()\n",
    "loss = -logprobs[range(n), Yb].mean()\n",
    "\n",
    "# PyTorch backward pass\n",
    "for p in parameters:\n",
    "    p.grad = None\n",
    "for t in [logprobs, probs, counts, counts_sum, counts_sum_inv, # afaik there is no cleaner way\n",
    "          norm_logits, logit_maxes, logits, h, hpreact, bnraw,\n",
    "         bnvar_inv, bnvar, bndiff2, bndiff, hprebn, bnmeani,\n",
    "         embcat, emb]:\n",
    "    t.retain_grad()\n",
    "loss.backward()\n",
    "loss"
   ]
  },
  {
   "cell_type": "code",
   "execution_count": 75,
   "id": "e513b08d",
   "metadata": {},
   "outputs": [
    {
     "data": {
      "text/plain": [
       "(torch.Size([1, 64]), torch.Size([1, 64]))"
      ]
     },
     "execution_count": 75,
     "metadata": {},
     "output_type": "execute_result"
    }
   ],
   "source": [
    "bnvar_inv.shape, bnvar.shape"
   ]
  },
  {
   "cell_type": "markdown",
   "id": "4bc04ca2",
   "metadata": {},
   "source": [
    "Manually backpropagting through the whole network manually to understand how the gradients flow through all of the variables one by one, according to their order in the forward pass. "
   ]
  },
  {
   "cell_type": "code",
   "execution_count": 101,
   "id": "427cb2fa",
   "metadata": {},
   "outputs": [
    {
     "name": "stdout",
     "output_type": "stream",
     "text": [
      "logprobs        | exact: True  | approximate: True  | maxdiff: 0.0\n",
      "probs           | exact: True  | approximate: True  | maxdiff: 0.0\n",
      "counts_sum_inv  | exact: True  | approximate: True  | maxdiff: 0.0\n",
      "counts_sum      | exact: True  | approximate: True  | maxdiff: 0.0\n",
      "counts          | exact: True  | approximate: True  | maxdiff: 0.0\n",
      "norm_logits     | exact: True  | approximate: True  | maxdiff: 0.0\n",
      "logit_maxes     | exact: True  | approximate: True  | maxdiff: 0.0\n",
      "logits          | exact: False | approximate: True  | maxdiff: 5.587935447692871e-09\n",
      "h               | exact: False | approximate: True  | maxdiff: 7.450580596923828e-09\n",
      "W2              | exact: False | approximate: True  | maxdiff: 4.190951585769653e-09\n",
      "b2              | exact: False | approximate: True  | maxdiff: 1.862645149230957e-08\n",
      "hpreact         | exact: False | approximate: True  | maxdiff: 7.450580596923828e-09\n",
      "bngain          | exact: False | approximate: True  | maxdiff: 1.1175870895385742e-08\n",
      "bnbias          | exact: False | approximate: True  | maxdiff: 1.1175870895385742e-08\n",
      "bnraw           | exact: False | approximate: True  | maxdiff: 1.5133991837501526e-09\n",
      "bnvar_inv       | exact: False | approximate: True  | maxdiff: 5.587935447692871e-09\n",
      "bnvar           | exact: False | approximate: True  | maxdiff: 8.149072527885437e-10\n",
      "bndiff2         | exact: False | approximate: True  | maxdiff: 2.546585164964199e-11\n",
      "bndiff          | exact: False | approximate: False | maxdiff: 0.0002767865371424705\n",
      "bnmeani         | exact: False | approximate: True  | maxdiff: 1.6298145055770874e-09\n",
      "hprebn          | exact: False | approximate: True  | maxdiff: 8.149072527885437e-10\n",
      "embcat          | exact: False | approximate: True  | maxdiff: 1.367880031466484e-09\n",
      "W1              | exact: False | approximate: True  | maxdiff: 3.725290298461914e-09\n",
      "b1              | exact: False | approximate: True  | maxdiff: 8.149072527885437e-10\n",
      "emb             | exact: False | approximate: True  | maxdiff: 1.367880031466484e-09\n",
      "C               | exact: False | approximate: True  | maxdiff: 1.8917489796876907e-09\n"
     ]
    }
   ],
   "source": [
    "dlogprobs = torch.zeros_like(logprobs)\n",
    "dlogprobs[range(n),Yb] = -1.0/n\n",
    "\n",
    "# GRAD at a Node = GLOBAL_GRAD * LOCAL_GRAD (Chain Rule)\n",
    "dprobs = dlogprobs * 1/(probs)\n",
    "\n",
    "dcounts_sum_inv = (dprobs * counts).sum(1, keepdim = True) # summing due to the implicit broadcasting done by Python\n",
    "# which replicates the values columnwise, thus we will need to sum the gradients \n",
    "\n",
    "dcounts = counts_sum_inv * dprobs# dcounts_sum * counts.sum(1,keepdim = True)\n",
    "\n",
    "dcounts_sum = dcounts_sum_inv * (-1.0/counts_sum**2)\n",
    "\n",
    "dcounts += torch.ones_like(counts) * dcounts_sum # add the derivative for the second branch \n",
    "\n",
    "dnorm_logits = dcounts * norm_logits.exp()\n",
    "\n",
    "dlogit_maxes = (-1.0)*dnorm_logits.sum(1,keepdim = True) # becaus of broadcasting \n",
    "\n",
    "dlogits = torch.ones_like(logits)*dnorm_logits\n",
    "\n",
    "# Create temporary variable to index into the values that were chosen using the max operation \n",
    "temp = torch.zeros_like(logits)\n",
    "temp[logits.max(1).indices] = 1.0\n",
    "dlogits += dlogit_maxes * temp\n",
    "\n",
    "# Can also do this \n",
    "# dlogits += F.one_hot(logits.max(1).indices, num_classes = logits.shape[1]) * dlogit_maxes\n",
    "\n",
    "dh = dlogits @ W2.T # derived on paper, can also see the matrix shapes \n",
    "dW2 = h.T @ dlogits\n",
    "db2 = dlogits.sum(0)\n",
    "\n",
    "dhpreact = dh * (1.0 - h**2)\n",
    "\n",
    "dbngain = (dhpreact * bnraw).sum(0, keepdim = True)\n",
    "\n",
    "dbnraw = (dhpreact* bngain)\n",
    "\n",
    "dbnbias = dhpreact.sum(0,keepdim = True)\n",
    "\n",
    "dbnvar_inv = (dbnraw * bndiff).sum(0,keepdim=True)\n",
    "dbndiff = dbnraw * bnvar_inv\n",
    "\n",
    "dbnvar = (-0.5*(bnvar + 1e-5)**-1.5) * dbnvar_inv \n",
    "\n",
    "dbndiff2 = dbnvar * (1.0/(n-1))*torch.ones_like(bndiff2)\n",
    "\n",
    "dbndiff += (2 * bndiff) * dbndiff2\n",
    "\n",
    "dbnmeani =  ((dbndiff) * -torch.ones_like(bndiff)).sum(0)\n",
    "dhprebn = (dbndiff)\n",
    "\n",
    "dhprebn += torch.ones_like(hprebn) *  dbnmeani * 1/n\n",
    "\n",
    "\n",
    "dembcat = dhprebn @ W1.T\n",
    "dW1 = embcat.T @ dhprebn\n",
    "db1 = dhprebn.sum(0)\n",
    "\n",
    "demb = dembcat.view(emb.shape)\n",
    "\n",
    "\n",
    "dC = torch.zeros_like(C)\n",
    "\n",
    "for k in range (Xb.shape[0]):\n",
    "    for j in range (Xb.shape[1]):\n",
    "        ix = Xb[k,j]\n",
    "        dC[ix] += demb[k,j] # += for multiple occurences \n",
    "\n",
    "cmp('logprobs', dlogprobs, logprobs)\n",
    "cmp('probs', dprobs, probs)\n",
    "cmp('counts_sum_inv', dcounts_sum_inv, counts_sum_inv)\n",
    "cmp('counts_sum', dcounts_sum, counts_sum)\n",
    "cmp('counts', dcounts, counts)\n",
    "cmp('norm_logits', dnorm_logits, norm_logits)\n",
    "cmp('logit_maxes', dlogit_maxes, logit_maxes)\n",
    "cmp('logits', dlogits, logits)\n",
    "cmp('h', dh, h)\n",
    "cmp('W2', dW2, W2)\n",
    "cmp('b2', db2, b2)\n",
    "cmp('hpreact', dhpreact, hpreact)\n",
    "cmp('bngain', dbngain, bngain)\n",
    "cmp('bnbias', dbnbias, bnbias)\n",
    "cmp('bnraw', dbnraw, bnraw)\n",
    "cmp('bnvar_inv', dbnvar_inv, bnvar_inv)\n",
    "cmp('bnvar', dbnvar, bnvar)\n",
    "cmp('bndiff2', dbndiff2, bndiff2)\n",
    "cmp('bndiff', dbndiff, bndiff)\n",
    "cmp('bnmeani', dbnmeani, bnmeani)\n",
    "cmp('hprebn', dhprebn, hprebn)\n",
    "cmp('embcat', dembcat, embcat)\n",
    "cmp('W1', dW1, W1)\n",
    "cmp('b1', db1, b1)\n",
    "cmp('emb', demb, emb)\n",
    "cmp('C', dC, C)"
   ]
  }
 ],
 "metadata": {
  "kernelspec": {
   "display_name": "Python 3 (ipykernel)",
   "language": "python",
   "name": "python3"
  },
  "language_info": {
   "codemirror_mode": {
    "name": "ipython",
    "version": 3
   },
   "file_extension": ".py",
   "mimetype": "text/x-python",
   "name": "python",
   "nbconvert_exporter": "python",
   "pygments_lexer": "ipython3",
   "version": "3.9.15"
  }
 },
 "nbformat": 4,
 "nbformat_minor": 5
}
