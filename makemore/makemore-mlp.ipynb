{
 "cells": [
  {
   "cell_type": "code",
   "execution_count": 1,
   "id": "2b235204",
   "metadata": {},
   "outputs": [],
   "source": [
    "import torch\n",
    "import torch.nn.functional as F\n",
    "import matplotlib.pyplot as plt\n",
    "%matplotlib inline "
   ]
  },
  {
   "cell_type": "code",
   "execution_count": 2,
   "id": "7a841643",
   "metadata": {},
   "outputs": [
    {
     "data": {
      "text/plain": [
       "['emma', 'olivia', 'ava', 'isabella', 'sophia', 'charlotte', 'mia', 'amelia']"
      ]
     },
     "execution_count": 2,
     "metadata": {},
     "output_type": "execute_result"
    }
   ],
   "source": [
    "words = open('names.txt','r').read().splitlines()\n",
    "words[:8]"
   ]
  },
  {
   "cell_type": "code",
   "execution_count": 3,
   "id": "409a83bb",
   "metadata": {},
   "outputs": [
    {
     "name": "stdout",
     "output_type": "stream",
     "text": [
      "{1: 'a', 2: 'b', 3: 'c', 4: 'd', 5: 'e', 6: 'f', 7: 'g', 8: 'h', 9: 'i', 10: 'j', 11: 'k', 12: 'l', 13: 'm', 14: 'n', 15: 'o', 16: 'p', 17: 'q', 18: 'r', 19: 's', 20: 't', 21: 'u', 22: 'v', 23: 'w', 24: 'x', 25: 'y', 26: 'z', 0: '.'}\n"
     ]
    }
   ],
   "source": [
    "# build the vocabulary of characters and mappings to/from integers\n",
    "chars = sorted(list(set(''.join(words))))\n",
    "stoi = {s:i+1 for i,s in enumerate(chars)}\n",
    "stoi['.'] = 0\n",
    "itos = {i:s for s,i in stoi.items()}\n",
    "print(itos)\n"
   ]
  },
  {
   "cell_type": "code",
   "execution_count": 73,
   "id": "af0e851c",
   "metadata": {},
   "outputs": [],
   "source": [
    "# build the dataset \n",
    "\n",
    "block_size = 3 # context length: how many chars do we want to take to predict the next one\n",
    "X, Y = [] , [] \n",
    "\n",
    "for w in words:\n",
    "    \n",
    "#     print(w)\n",
    "    \n",
    "    context = [0] * block_size\n",
    "    for ch in w + '.':\n",
    "        ix = stoi[ch]\n",
    "        X.append(context)\n",
    "        Y.append(ix)\n",
    "#         print(''.join(itos[i] for i in context), '--->', itos[ix])\n",
    "        context = context[1:] + [ix] # crop and append\n",
    "#         print(f'X: {X}')\n",
    "\n",
    "X = torch.tensor(X)\n",
    "Y = torch.tensor(Y)"
   ]
  },
  {
   "cell_type": "code",
   "execution_count": 101,
   "id": "120f71b8",
   "metadata": {},
   "outputs": [
    {
     "name": "stdout",
     "output_type": "stream",
     "text": [
      "torch.Size([182625, 3]) torch.Size([182625])\n",
      "torch.Size([22655, 3]) torch.Size([22655])\n",
      "torch.Size([22866, 3]) torch.Size([22866])\n"
     ]
    }
   ],
   "source": [
    "# build the dataset\n",
    "block_size = 3 # context length: how many characters do we take to predict the next one?\n",
    "\n",
    "def build_dataset(words):  \n",
    "  X, Y = [], []\n",
    "  for w in words:\n",
    "\n",
    "    #print(w)\n",
    "    context = [0] * block_size\n",
    "    for ch in w + '.':\n",
    "      ix = stoi[ch]\n",
    "      X.append(context)\n",
    "      Y.append(ix)\n",
    "      #print(''.join(itos[i] for i in context), '--->', itos[ix])\n",
    "      context = context[1:] + [ix] # crop and append\n",
    "\n",
    "  X = torch.tensor(X)\n",
    "  Y = torch.tensor(Y)\n",
    "  print(X.shape, Y.shape)\n",
    "  return X, Y\n",
    "\n",
    "import random\n",
    "random.seed(42)\n",
    "random.shuffle(words)\n",
    "n1 = int(0.8*len(words))\n",
    "n2 = int(0.9*len(words))\n",
    "\n",
    "Xtr, Ytr = build_dataset(words[:n1]) # Training split\n",
    "Xdev, Ydev = build_dataset(words[n1:n2]) # Validation split\n",
    "Xte, Yte = build_dataset(words[n2:]) # Test split "
   ]
  },
  {
   "cell_type": "code",
   "execution_count": 72,
   "id": "c155b967",
   "metadata": {},
   "outputs": [],
   "source": [
    "# For the first 5 words: \n",
    "# emma\n",
    "# ... ---> e\n",
    "# ..e ---> m\n",
    "# .em ---> m\n",
    "# emm ---> a\n",
    "# mma ---> .\n",
    "# olivia\n",
    "# ... ---> o\n",
    "# ..o ---> l\n",
    "# .ol ---> i\n",
    "# oli ---> v\n",
    "# liv ---> i\n",
    "# ivi ---> a\n",
    "# via ---> .\n",
    "# ava\n",
    "# ... ---> a\n",
    "# ..a ---> v\n",
    "# .av ---> a\n",
    "# ava ---> .\n",
    "# isabella\n",
    "# ... ---> i\n",
    "# ..i ---> s\n",
    "# .is ---> a\n",
    "# isa ---> b\n",
    "# sab ---> e\n",
    "# abe ---> l\n",
    "# bel ---> l\n",
    "# ell ---> a\n",
    "# lla ---> .\n",
    "# sophia\n",
    "# ... ---> s\n",
    "# ..s ---> o\n",
    "# .so ---> p\n",
    "# sop ---> h\n",
    "# oph ---> i\n",
    "# phi ---> a\n",
    "# hia ---> ."
   ]
  },
  {
   "cell_type": "code",
   "execution_count": 74,
   "id": "70c8f58a",
   "metadata": {},
   "outputs": [
    {
     "data": {
      "text/plain": [
       "(torch.Size([228146, 3]), torch.int64, torch.Size([228146]), torch.int64)"
      ]
     },
     "execution_count": 74,
     "metadata": {},
     "output_type": "execute_result"
    }
   ],
   "source": [
    "X.shape, X.dtype, Y.shape, Y.dtype"
   ]
  },
  {
   "cell_type": "code",
   "execution_count": 16,
   "id": "ed80055c",
   "metadata": {},
   "outputs": [],
   "source": [
    "C = torch.randn((27,2)) # Lookup table: 27 chars --> 2 dimensions"
   ]
  },
  {
   "cell_type": "code",
   "execution_count": 17,
   "id": "05b5dbf8",
   "metadata": {},
   "outputs": [
    {
     "data": {
      "text/plain": [
       "torch.Size([32, 3, 2])"
      ]
     },
     "execution_count": 17,
     "metadata": {},
     "output_type": "execute_result"
    }
   ],
   "source": [
    "emb = C[X]\n",
    "emb.shape"
   ]
  },
  {
   "cell_type": "code",
   "execution_count": 33,
   "id": "38e8090c",
   "metadata": {},
   "outputs": [],
   "source": [
    "W1 = torch.randn((6,100)) # 6 (3x2) inputs to the layer, 100 neurons as an example \n",
    "b1 = torch.randn(100)"
   ]
  },
  {
   "cell_type": "code",
   "execution_count": 34,
   "id": "ec376b6b",
   "metadata": {},
   "outputs": [],
   "source": [
    "h = torch.tanh(emb.view(-1,6) @ W1 + b1) # -1 will make PyTorch infer the shape based on the other dimension\n",
    "# emb.view(32,6) is the same operation as:\n",
    "# 1. torch.cat([emb[:,0,:], emb[:,1,:], emb[:,2,:]], dim =1)\n",
    "# 2. torch.cat(torch.unbind(emb,1),dim = 1)  # INEFFICIENT: Creates new memory \n",
    "# But much faster "
   ]
  },
  {
   "cell_type": "code",
   "execution_count": 36,
   "id": "989248a8",
   "metadata": {},
   "outputs": [],
   "source": [
    "W2 = torch.randn((100,27)) # 100 inputs to the layer, 27 outputs, since 27 possible characters\n",
    "b2 = torch.randn(27)"
   ]
  },
  {
   "cell_type": "code",
   "execution_count": 37,
   "id": "260f5ddf",
   "metadata": {},
   "outputs": [],
   "source": [
    "logits = h @ W2 + b2"
   ]
  },
  {
   "cell_type": "code",
   "execution_count": 39,
   "id": "68b86e75",
   "metadata": {},
   "outputs": [],
   "source": [
    "counts = logits.exp()\n",
    "probs = counts/counts.sum(1, keepdims= True)"
   ]
  },
  {
   "cell_type": "code",
   "execution_count": 118,
   "id": "99a9f3dd",
   "metadata": {},
   "outputs": [
    {
     "data": {
      "text/plain": [
       "(torch.Size([182625, 3]), torch.Size([182625]))"
      ]
     },
     "execution_count": 118,
     "metadata": {},
     "output_type": "execute_result"
    }
   ],
   "source": [
    "Xtr.shape, Ytr.shape # dataset"
   ]
  },
  {
   "cell_type": "code",
   "execution_count": 195,
   "id": "c1667c07",
   "metadata": {},
   "outputs": [],
   "source": [
    "g = torch.Generator().manual_seed(2147483647) # for reproducibility\n",
    "C = torch.randn((27, 10), generator=g, requires_grad = True) # 10 dimensinal embeddings\n",
    "W1 = torch.randn((30, 200), generator=g, requires_grad = True) # 3 x 10 inputs = 30 \n",
    "b1 = torch.randn(200, generator=g, requires_grad = True)\n",
    "W2 = torch.randn((200, 27), generator=g, requires_grad = True)\n",
    "b2 = torch.randn(27, generator=g, requires_grad = True)\n",
    "parameters = [C, W1, b1, W2, b2]"
   ]
  },
  {
   "cell_type": "code",
   "execution_count": 196,
   "id": "fe27584b",
   "metadata": {},
   "outputs": [
    {
     "data": {
      "text/plain": [
       "11897"
      ]
     },
     "execution_count": 196,
     "metadata": {},
     "output_type": "execute_result"
    }
   ],
   "source": [
    "sum(p.nelement() for p in parameters)"
   ]
  },
  {
   "cell_type": "code",
   "execution_count": 197,
   "id": "d30e252e",
   "metadata": {},
   "outputs": [],
   "source": [
    "lre = torch.linspace(-3,0,1000)\n",
    "lrs = 10 ** lre"
   ]
  },
  {
   "cell_type": "code",
   "execution_count": 198,
   "id": "95687652",
   "metadata": {},
   "outputs": [],
   "source": [
    "lri = []\n",
    "lossi = []\n",
    "stepi = [] "
   ]
  },
  {
   "cell_type": "code",
   "execution_count": 204,
   "id": "49f9fcf8",
   "metadata": {},
   "outputs": [],
   "source": [
    "for i in range(200_000):\n",
    "    \n",
    "    # minibatch\n",
    "    ix = torch.randint(0, Xtr.shape[0], (32,))\n",
    "    \n",
    "    # Forward pass\n",
    "    emb = C[Xtr[ix]] # 32 x 3 x 2\n",
    "    h = torch.tanh(emb.view(-1,30) @ W1 + b1) # 32 x 100\n",
    "    logits = h @ W2 + b2\n",
    "    loss = F.cross_entropy(logits, Ytr[ix])\n",
    "    #print(loss.item())\n",
    "    \n",
    "    # Backward pass\n",
    "    for p in parameters:\n",
    "        p.grad = None\n",
    "    loss.backward()\n",
    "    \n",
    "    # update\n",
    "    lr = 0.1 if i < 100_000 else 0.1\n",
    "    for p in parameters:\n",
    "        p.data += -lr * p.grad\n",
    "        \n",
    "    # Track stats\n",
    "    stepi.append(i)\n",
    "    lossi.append(loss.log10().item())"
   ]
  },
  {
   "cell_type": "code",
   "execution_count": 200,
   "id": "77b4ebe8",
   "metadata": {},
   "outputs": [
    {
     "data": {
      "text/plain": [
       "[<matplotlib.lines.Line2D at 0x33387ce80>]"
      ]
     },
     "execution_count": 200,
     "metadata": {},
     "output_type": "execute_result"
    },
    {
     "data": {
      "image/png": "[encoded data removed]",
      "text/plain": [
       "<Figure size 640x480 with 1 Axes>"
      ]
     },
     "metadata": {},
     "output_type": "display_data"
    }
   ],
   "source": [
    "plt.plot(stepi,lossi)"
   ]
  },
  {
   "cell_type": "code",
   "execution_count": 205,
   "id": "319d7cea",
   "metadata": {},
   "outputs": [
    {
     "data": {
      "text/plain": [
       "tensor(2.1686, grad_fn=<NllLossBackward0>)"
      ]
     },
     "execution_count": 205,
     "metadata": {},
     "output_type": "execute_result"
    }
   ],
   "source": [
    "# Evaluate the model on the Dev set \n",
    "emb = C[Xtr] # 32 x 3 x 2\n",
    "h = torch.tanh(emb.view(-1,30)@W1 +b1)\n",
    "logits = h@W2 + b2\n",
    "loss = F.cross_entropy(logits, Ytr)\n",
    "loss "
   ]
  },
  {
   "cell_type": "code",
   "execution_count": 206,
   "id": "6cc52760",
   "metadata": {},
   "outputs": [
    {
     "data": {
      "text/plain": [
       "tensor(2.2522, grad_fn=<NllLossBackward0>)"
      ]
     },
     "execution_count": 206,
     "metadata": {},
     "output_type": "execute_result"
    }
   ],
   "source": [
    "# Evaluate the model on the Dev set \n",
    "emb = C[Xdev] # 32 x 3 x 2\n",
    "h = torch.tanh(emb.view(-1,30)@W1 +b1)\n",
    "logits = h@W2 + b2\n",
    "loss = F.cross_entropy(logits, Ydev)\n",
    "loss "
   ]
  },
  {
   "cell_type": "code",
   "execution_count": 209,
   "id": "ec337bc5",
   "metadata": {},
   "outputs": [
    {
     "data": {
      "image/png": "[encoded data removed]",
      "text/plain": [
       "<Figure size 800x800 with 1 Axes>"
      ]
     },
     "metadata": {},
     "output_type": "display_data"
    }
   ],
   "source": [
    "# Visualize the dimensions 0 and 1 of the embedding matrix\n",
    "plt.figure(figsize=(8,8))\n",
    "plt.scatter(C[:,0].data, C[:,1].data, s = 200)\n",
    "\n",
    "for i in range(C.shape[0]):\n",
    "    plt.text(C[i,0].item(), C[i,1].item(), itos[i], ha = \"center\", va = \"center\" , color = \"white\")\n",
    "\n",
    "plt.grid('minor')"
   ]
  },
  {
   "cell_type": "code",
   "execution_count": 210,
   "id": "3b259461",
   "metadata": {},
   "outputs": [
    {
     "name": "stdout",
     "output_type": "stream",
     "text": [
      "carlah.\n",
      "quille.\n",
      "khi.\n",
      "mis.\n",
      "reigh.\n",
      "skaessa.\n",
      "jazzmen.\n",
      "dmeryst.\n",
      "kaelian.\n",
      "kasiah.\n",
      "maiivan.\n",
      "lege.\n",
      "dham.\n",
      "prin.\n",
      "quintis.\n",
      "lil.\n",
      "alian.\n",
      "quinte.\n",
      "maijarystiah.\n",
      "eilias.\n"
     ]
    }
   ],
   "source": [
    "# Sample from the model and generate names \n",
    "g = torch.Generator().manual_seed(2147483647 + 10) \n",
    "\n",
    "for _ in range(20):\n",
    "    \n",
    "    out = []\n",
    "    context = [0] * block_size # init with all \"...\"\n",
    "    while True: \n",
    "        emb = C[torch.tensor([context])]\n",
    "        h = torch.tanh(emb.view(1,-1) @ W1 + b1) \n",
    "        logits = h @ W2 + b2\n",
    "        probs = F.softmax(logits , dim = 1)\n",
    "        ix = torch.multinomial(probs, num_samples = 1 , generator = g).item()\n",
    "        context = context[1:] + [ix]\n",
    "        out.append(ix)\n",
    "        \n",
    "        if ix == 0: \n",
    "            break\n",
    "     \n",
    "    print(\"\".join(itos[i] for i in out))"
   ]
  },
  {
   "cell_type": "code",
   "execution_count": null,
   "id": "1c63d638",
   "metadata": {},
   "outputs": [],
   "source": []
  }
 ],
 "metadata": {
  "kernelspec": {
   "display_name": "Python 3.9 (PyTorch conda)",
   "language": "python",
   "name": "pytorch"
  },
  "language_info": {
   "codemirror_mode": {
    "name": "ipython",
    "version": 3
   },
   "file_extension": ".py",
   "mimetype": "text/x-python",
   "name": "python",
   "nbconvert_exporter": "python",
   "pygments_lexer": "ipython3",
   "version": "3.9.15"
  }
 },
 "nbformat": 4,
 "nbformat_minor": 5
}
